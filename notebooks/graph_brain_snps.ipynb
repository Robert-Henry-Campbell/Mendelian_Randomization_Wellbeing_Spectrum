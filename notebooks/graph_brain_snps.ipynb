{
 "cells": [
  {
   "cell_type": "markdown",
   "id": "09eef83c",
   "metadata": {},
   "source": [
    "#goal\n",
    "this notebook calculates the unfiltered IVS (raw GWAS hits) by eQTL brain-region as well as the filtered IVs by brain region"
   ]
  },
  {
   "cell_type": "code",
   "execution_count": null,
   "id": "ff073201",
   "metadata": {},
   "outputs": [],
   "source": [
    "import pandas as pd\n",
    "from pathlib import Path\n",
    "\n",
    "\n",
    "brain_eqtl_directory = 'data\\processed\\output'\n",
    "\n",
    "# gather brain region csvs\n",
    "\n",
    "## gather up a list of all files startin with 'Indep. Signals AVG DS.*'\n",
    "region_snps = {}\n",
    "for file in Path(brain_eqtl_directory).glob('Indep. Signals AVG DS.*'):\n",
    "    if file.is_file() and file.suffix == '.csv':\n",
    "        print(f'found file {file.name}')\n",
    "        region_snps[file.name] = pd.read_csv[file]\n",
    "\n",
    "#gather up filtered snps csv to df\n",
    "\n",
    "# for each region df, return filtered df of only filtered snps in that df\n",
    "\n",
    "#generate table of filtered and unfiltered snp count by brain region\n",
    "\n",
    "#graph in blue a bar chart of filtered and unfiltered snp count by brain region"
   ]
  }
 ],
 "metadata": {
  "language_info": {
   "name": "python"
  }
 },
 "nbformat": 4,
 "nbformat_minor": 5
}
